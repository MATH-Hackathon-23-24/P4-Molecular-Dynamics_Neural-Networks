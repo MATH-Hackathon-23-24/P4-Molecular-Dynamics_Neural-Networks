{
 "cells": [
  {
   "cell_type": "code",
   "execution_count": 4,
   "id": "c1438a56-db60-46bd-9c94-d5ebc21779dd",
   "metadata": {},
   "outputs": [],
   "source": [
    "#!pip install mdtraj\n",
    "\n",
    "import mdtraj as md\n",
    "import numpy as np\n",
    "import sympy as sp\n",
    "import torch as pt\n",
    "from tqdm import tqdm\n",
    "import scipy \n",
    "\n",
    "import matplotlib.pyplot as plt\n",
    "\n",
    "np.random.seed(0)\n",
    "pt.manual_seed(0)\n",
    "\n",
    "font = {'size'   : 10}\n",
    "plt.rc('font', **font)\n",
    "in2cm = 1/2.54  # centimeters in inches"
   ]
  },
  {
   "cell_type": "markdown",
   "id": "60f6a3fc-86fa-4aae-b087-be27b18c91e7",
   "metadata": {},
   "source": [
    "# Exercise 3\n",
    "## ISOKANN applied to the peptide VGVAPG (Val-Gly-Val-Ala-Pro-Gly)\n",
    "In this exercise, you will apply ISOKANN to a peptide of six amino acids.\n",
    "This amino acid is made of 73 atoms, then this is a 219-dimensional system.\n",
    "\n",
    "You will not have to generate trajectories, but they will be provided for you.\n",
    "\n",
    "The data set is made of 500 initial states and 500x100 final states.\n",
    "Each file of the final states contains 10 states separated by 0.2 ps. "
   ]
  },
  {
   "cell_type": "code",
   "execution_count": 2,
   "id": "0bf4d665-3707-47f6-9e4d-98a166ab26d4",
   "metadata": {},
   "outputs": [
    {
     "ename": "OSError",
     "evalue": "No such file: initial_states/x0_55.rst7",
     "output_type": "error",
     "traceback": [
      "\u001b[1;31m---------------------------------------------------------------------------\u001b[0m",
      "\u001b[1;31mOSError\u001b[0m                                   Traceback (most recent call last)",
      "Cell \u001b[1;32mIn[2], line 3\u001b[0m\n\u001b[0;32m      1\u001b[0m \u001b[38;5;66;03m# Load one initial state\u001b[39;00m\n\u001b[0;32m      2\u001b[0m i   \u001b[38;5;241m=\u001b[39m \u001b[38;5;241m55\u001b[39m\n\u001b[1;32m----> 3\u001b[0m x0  \u001b[38;5;241m=\u001b[39m \u001b[43mmd\u001b[49m\u001b[38;5;241;43m.\u001b[39;49m\u001b[43mload\u001b[49m\u001b[43m(\u001b[49m\u001b[38;5;124;43m\"\u001b[39;49m\u001b[38;5;124;43minitial_states/x0_\u001b[39;49m\u001b[38;5;124;43m\"\u001b[39;49m\u001b[43m \u001b[49m\u001b[38;5;241;43m+\u001b[39;49m\u001b[43m \u001b[49m\u001b[38;5;28;43mstr\u001b[39;49m\u001b[43m(\u001b[49m\u001b[43mi\u001b[49m\u001b[43m)\u001b[49m\u001b[43m \u001b[49m\u001b[38;5;241;43m+\u001b[39;49m\u001b[43m \u001b[49m\u001b[38;5;124;43m\"\u001b[39;49m\u001b[38;5;124;43m.rst7\u001b[39;49m\u001b[38;5;124;43m\"\u001b[39;49m\u001b[43m,\u001b[49m\u001b[43m \u001b[49m\u001b[43mtop\u001b[49m\u001b[43m \u001b[49m\u001b[38;5;241;43m=\u001b[39;49m\u001b[43m \u001b[49m\u001b[38;5;124;43m\"\u001b[39;49m\u001b[38;5;124;43mVGVAPG_nowat.prmtop\u001b[39;49m\u001b[38;5;124;43m\"\u001b[39;49m\u001b[43m)\u001b[49m  \n\u001b[0;32m      4\u001b[0m d   \u001b[38;5;241m=\u001b[39m np\u001b[38;5;241m.\u001b[39msqueeze(md\u001b[38;5;241m.\u001b[39mcompute_distances(x0,[[\u001b[38;5;241m0\u001b[39m,\u001b[38;5;241m70\u001b[39m]], periodic\u001b[38;5;241m=\u001b[39m\u001b[38;5;28;01mFalse\u001b[39;00m))\n\u001b[0;32m      5\u001b[0m \u001b[38;5;28mprint\u001b[39m(d)\n",
      "File \u001b[1;32m~\\anaconda3\\envs\\emma\\lib\\site-packages\\mdtraj\\core\\trajectory.py:409\u001b[0m, in \u001b[0;36mload\u001b[1;34m(filename_or_filenames, discard_overlapping_frames, **kwargs)\u001b[0m\n\u001b[0;32m    403\u001b[0m     \u001b[38;5;28;01mraise\u001b[39;00m \u001b[38;5;167;01mIOError\u001b[39;00m(\u001b[38;5;124m'\u001b[39m\u001b[38;5;124mSorry, no loader for filename=\u001b[39m\u001b[38;5;132;01m%s\u001b[39;00m\u001b[38;5;124m (extension=\u001b[39m\u001b[38;5;132;01m%s\u001b[39;00m\u001b[38;5;124m) \u001b[39m\u001b[38;5;124m'\u001b[39m\n\u001b[0;32m    404\u001b[0m                 \u001b[38;5;124m'\u001b[39m\u001b[38;5;124mwas found. I can only load files \u001b[39m\u001b[38;5;124m'\u001b[39m\n\u001b[0;32m    405\u001b[0m                 \u001b[38;5;124m'\u001b[39m\u001b[38;5;124mwith extensions in \u001b[39m\u001b[38;5;132;01m%s\u001b[39;00m\u001b[38;5;124m'\u001b[39m \u001b[38;5;241m%\u001b[39m (\n\u001b[0;32m    406\u001b[0m                     filename_or_filenames[\u001b[38;5;241m0\u001b[39m], extension, FormatRegistry\u001b[38;5;241m.\u001b[39mloaders\u001b[38;5;241m.\u001b[39mkeys()))\n\u001b[0;32m    408\u001b[0m \u001b[38;5;28;01mif\u001b[39;00m loader\u001b[38;5;241m.\u001b[39m\u001b[38;5;18m__name__\u001b[39m \u001b[38;5;129;01mnot\u001b[39;00m \u001b[38;5;129;01min\u001b[39;00m [\u001b[38;5;124m'\u001b[39m\u001b[38;5;124mload_dtr\u001b[39m\u001b[38;5;124m'\u001b[39m]:\n\u001b[1;32m--> 409\u001b[0m         \u001b[43m_assert_files_exist\u001b[49m\u001b[43m(\u001b[49m\u001b[43mfilename_or_filenames\u001b[49m\u001b[43m)\u001b[49m\n\u001b[0;32m    410\u001b[0m \u001b[38;5;28;01melse\u001b[39;00m:\n\u001b[0;32m    411\u001b[0m     _assert_files_or_dirs_exist(filename_or_filenames)\n",
      "File \u001b[1;32m~\\anaconda3\\envs\\emma\\lib\\site-packages\\mdtraj\\core\\trajectory.py:100\u001b[0m, in \u001b[0;36m_assert_files_exist\u001b[1;34m(filenames)\u001b[0m\n\u001b[0;32m     98\u001b[0m \u001b[38;5;28;01mfor\u001b[39;00m fn \u001b[38;5;129;01min\u001b[39;00m filenames:\n\u001b[0;32m     99\u001b[0m     \u001b[38;5;28;01mif\u001b[39;00m \u001b[38;5;129;01mnot\u001b[39;00m (os\u001b[38;5;241m.\u001b[39mpath\u001b[38;5;241m.\u001b[39mexists(fn) \u001b[38;5;129;01mand\u001b[39;00m os\u001b[38;5;241m.\u001b[39mpath\u001b[38;5;241m.\u001b[39misfile(fn)):\n\u001b[1;32m--> 100\u001b[0m         \u001b[38;5;28;01mraise\u001b[39;00m \u001b[38;5;167;01mIOError\u001b[39;00m(\u001b[38;5;124m'\u001b[39m\u001b[38;5;124mNo such file: \u001b[39m\u001b[38;5;132;01m%s\u001b[39;00m\u001b[38;5;124m'\u001b[39m \u001b[38;5;241m%\u001b[39m fn)\n",
      "\u001b[1;31mOSError\u001b[0m: No such file: initial_states/x0_55.rst7"
     ]
    }
   ],
   "source": [
    "# Load one initial state\n",
    "i   = 55\n",
    "x0  = md.load(\"initial_states/x0_\" + str(i) + \".rst7\", top = \"VGVAPG_nowat.prmtop\")  \n",
    "d   = np.squeeze(md.compute_distances(x0,[[0,70]], periodic=False))\n",
    "print(d)"
   ]
  },
  {
   "cell_type": "code",
   "execution_count": null,
   "id": "ad508d2e-71a2-4600-8367-9e4ce1f94884",
   "metadata": {},
   "outputs": [],
   "source": [
    "# Load one finale state\n",
    "i   = 0\n",
    "r   = 0\n",
    "xt  = md.load(\"final_states/xf_\" + str(i) + \"_r\" + str(r) + \".dcd\", top = \"VGVAPG_nowat.prmtop\")  \n",
    "d   = np.squeeze(md.compute_distances(xt,[[0,70]], periodic=False))"
   ]
  },
  {
   "cell_type": "code",
   "execution_count": null,
   "id": "a1b154a7-a674-4f5f-b84e-7ea182607359",
   "metadata": {},
   "outputs": [],
   "source": [
    "plt.plot(d, 'o')"
   ]
  },
  {
   "cell_type": "code",
   "execution_count": null,
   "id": "a7731b9a-a000-4260-8d67-2c416d52cd1d",
   "metadata": {},
   "outputs": [],
   "source": []
  }
 ],
 "metadata": {
  "kernelspec": {
   "display_name": "Python 3 (ipykernel)",
   "language": "python",
   "name": "python3"
  },
  "language_info": {
   "codemirror_mode": {
    "name": "ipython",
    "version": 3
   },
   "file_extension": ".py",
   "mimetype": "text/x-python",
   "name": "python",
   "nbconvert_exporter": "python",
   "pygments_lexer": "ipython3",
   "version": "3.8.18"
  }
 },
 "nbformat": 4,
 "nbformat_minor": 5
}
