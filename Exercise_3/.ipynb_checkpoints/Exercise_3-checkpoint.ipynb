{
 "cells": [
  {
   "cell_type": "code",
   "execution_count": null,
   "id": "51f8991b-5acc-4f87-8bcf-4b943891423b",
   "metadata": {},
   "outputs": [],
   "source": [
    "!pip install mdtraj\n",
    "!wget https://www.zib.de/userpage/donati/hackaton_2024/final_states.rar\n",
    "!wget https://www.zib.de/userpage/donati/hackaton_2024/initial_states.rar\n",
    "!wget https://www.zib.de/userpage/donati/hackaton_2024/VGVAPG_nowat.prmtop\n",
    "\n",
    "!pip install unrar\n",
    "\n",
    "\n",
    "!unrar x initial_states.rar /content/\n",
    "!unrar x final_states.rar /content/"
   ]
  },
  {
   "cell_type": "code",
   "execution_count": null,
   "id": "866f5723-2957-4b29-ba4a-56ef9b56ca26",
   "metadata": {},
   "outputs": [],
   "source": [
    "import mdtraj as md\n",
    "import numpy as np\n",
    "import sympy as sp\n",
    "import torch as pt\n",
    "from tqdm import tqdm\n",
    "import scipy\n",
    "\n",
    "import matplotlib.pyplot as plt\n",
    "\n",
    "np.random.seed(0)\n",
    "pt.manual_seed(0)\n",
    "\n",
    "font = {'size'   : 10}\n",
    "plt.rc('font', **font)\n",
    "in2cm = 1/2.54  # centimeters in inches"
   ]
  },
  {
   "cell_type": "markdown",
   "id": "60f6a3fc-86fa-4aae-b087-be27b18c91e7",
   "metadata": {},
   "source": [
    "# Exercise 3\n",
    "## ISOKANN applied to the peptide VGVAPG (Val-Gly-Val-Ala-Pro-Gly)\n",
    "In this exercise, you will apply ISOKANN to a peptide of six amino acids.\n",
    "This amino acid is made of 73 atoms, then this is a 219-dimensional system.\n",
    "\n",
    "You will not have to generate trajectories, but they will be provided for you.\n",
    "\n",
    "The data set is made of 500 initial states and 500x100 final states.\n",
    "Each file of the final states contains 10 states separated by 0.2 ps. "
   ]
  },
  {
   "cell_type": "code",
   "execution_count": null,
   "id": "0bf4d665-3707-47f6-9e4d-98a166ab26d4",
   "metadata": {},
   "outputs": [],
   "source": [
    "def generate_pairs(N):\n",
    "    return np.c_[np.array(np.meshgrid(np.arange(N), np.arange(N))).T.reshape(-1,2)]\n",
    "\n",
    "pairs =   generate_pairs(73)"
   ]
  },
  {
   "cell_type": "code",
   "execution_count": null,
   "id": "ad508d2e-71a2-4600-8367-9e4ce1f94884",
   "metadata": {},
   "outputs": [],
   "source": [
    "# Load initial states\n",
    "\n",
    "D0 = np.empty(10, dtype = object)\n",
    "\n",
    "for i in range(10):\n",
    "  x0     =  md.load(\"initial_states/x0_\" + str(i) + \".rst7\", top = \"VGVAPG_nowat.prmtop\")\n",
    "  D0[i]  =  md.compute_distances(x0, pairs, periodic=False)"
   ]
  },
  {
   "cell_type": "code",
   "execution_count": null,
   "id": "a1b154a7-a674-4f5f-b84e-7ea182607359",
   "metadata": {},
   "outputs": [],
   "source": [
    "# Load one final states\n",
    "\n",
    "Dt = np.empty((10,10), dtype = object)\n",
    "\n",
    "# Select frame\n",
    "frame = -1\n",
    "\n",
    "for i in range(10):\n",
    "  for j in range(10):\n",
    "    xt     =  md.load(\"initial_states/x0_\" + str(i) + \".rst7\", top = \"VGVAPG_nowat.prmtop\")\n",
    "    Dt[i,j]  =  md.compute_distances(xt[frame], pairs, periodic=False)\n"
   ]
  }
 ],
 "metadata": {
  "kernelspec": {
   "display_name": "Python 3 (ipykernel)",
   "language": "python",
   "name": "python3"
  },
  "language_info": {
   "codemirror_mode": {
    "name": "ipython",
    "version": 3
   },
   "file_extension": ".py",
   "mimetype": "text/x-python",
   "name": "python",
   "nbconvert_exporter": "python",
   "pygments_lexer": "ipython3",
   "version": "3.8.18"
  }
 },
 "nbformat": 4,
 "nbformat_minor": 5
}
